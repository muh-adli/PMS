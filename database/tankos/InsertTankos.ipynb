{
 "cells": [
  {
   "cell_type": "code",
   "execution_count": 2,
   "metadata": {},
   "outputs": [],
   "source": [
    "import csv\n",
    "import psycopg2\n",
    "import pandas as pd\n",
    "from io import StringIO"
   ]
  },
  {
   "cell_type": "code",
   "execution_count": 4,
   "metadata": {},
   "outputs": [
    {
     "name": "stdout",
     "output_type": "stream",
     "text": [
      "('\\n        INSERT INTO public.tankos_apltonase(id, afdeling, block, date, tonase, geomid)\\n        VALUES (DEFAULT, NULL, %s, %s, %s, %s);\\n    ', ('R27', '16/04/2024', '', None))\n"
     ]
    },
    {
     "ename": "TypeError",
     "evalue": "argument 1 must be a string or unicode object: got tuple instead",
     "output_type": "error",
     "traceback": [
      "\u001b[1;31m---------------------------------------------------------------------------\u001b[0m",
      "\u001b[1;31mTypeError\u001b[0m                                 Traceback (most recent call last)",
      "Cell \u001b[1;32mIn[4], line 45\u001b[0m\n\u001b[0;32m     43\u001b[0m     exe \u001b[38;5;241m=\u001b[39m insert_query, (block, date, tonase, geomid)\n\u001b[0;32m     44\u001b[0m     \u001b[38;5;28mprint\u001b[39m(exe)\n\u001b[1;32m---> 45\u001b[0m     \u001b[43mcursor\u001b[49m\u001b[38;5;241;43m.\u001b[39;49m\u001b[43mexecute\u001b[49m\u001b[43m(\u001b[49m\u001b[43mexe\u001b[49m\u001b[43m)\u001b[49m\n\u001b[0;32m     48\u001b[0m \u001b[38;5;66;03m# # Commit the transaction\u001b[39;00m\n\u001b[0;32m     49\u001b[0m \u001b[38;5;66;03m# conn.commit()\u001b[39;00m\n\u001b[0;32m     50\u001b[0m \n\u001b[0;32m     51\u001b[0m \u001b[38;5;66;03m# Close the cursor and connection\u001b[39;00m\n\u001b[0;32m     52\u001b[0m cursor\u001b[38;5;241m.\u001b[39mclose()\n",
      "\u001b[1;31mTypeError\u001b[0m: argument 1 must be a string or unicode object: got tuple instead"
     ]
    }
   ],
   "source": [
    "# CSV data (you can replace this with your actual CSV data)\n",
    "csv_data = \"\"\"Blok;Date;Kirim;Aplikasi;Restan\n",
    "R27;16/04/2024;;102,48;\n",
    "R27;17/04/2024;;108,64;\n",
    "R27;18/04/2024;;102,48;\n",
    "R27;19/04/2024;;103,32;\n",
    "R27;20/04/2024;;110,88;\n",
    "R27;21/04/2024;;57,12;\n",
    "R27;22/04/2024;118,8;183,68;\"\"\"\n",
    "\n",
    "# Split the CSV data into rows\n",
    "rows = csv_data.strip().splitlines()\n",
    "header = rows[0].split(';')\n",
    "data = [dict(zip(header, row.split(';'))) for row in rows[1:]]\n",
    "\n",
    "# Database connection parameters\n",
    "db_params = {\n",
    "    'host': 'localhost',\n",
    "    'database': 'webgis',\n",
    "    'user': 'postgres',\n",
    "    'password': '12345',\n",
    "    'port': '5432'  # Optional: specify if different from default 5432\n",
    "}\n",
    "\n",
    "# Connect to PostgreSQL\n",
    "conn = psycopg2.connect(**db_params)\n",
    "cursor = conn.cursor()\n",
    "\n",
    "# Loop through the data and insert into the database\n",
    "for row in data:\n",
    "    block = row['Blok']\n",
    "    date = row['Date']\n",
    "    tonase = row['Restan'].replace(',', '.')  # replace comma with dot for decimal point\n",
    "    geomid = None  # adjust as per your requirement\n",
    "\n",
    "    # Insert statement\n",
    "    insert_query = \"\"\"\n",
    "        INSERT INTO public.tankos_apltonase(id, afdeling, block, date, tonase, geomid)\n",
    "        VALUES (DEFAULT, NULL, %s, %s, %s, %s);\n",
    "    \"\"\"\n",
    "    \n",
    "    # Execute the insert query\n",
    "    exe = insert_query, (block, date, tonase, geomid)\n",
    "    print(exe)\n",
    "    # cursor.execute(exe)\n",
    "\n",
    "\n",
    "# # Commit the transaction\n",
    "# conn.commit()\n",
    "\n",
    "# # Close the cursor and connection\n",
    "# cursor.close()\n",
    "# conn.close()\n",
    "\n",
    "print(\"Data inserted successfully.\")\n"
   ]
  },
  {
   "cell_type": "code",
   "execution_count": null,
   "metadata": {},
   "outputs": [],
   "source": []
  }
 ],
 "metadata": {
  "kernelspec": {
   "display_name": "venv",
   "language": "python",
   "name": "python3"
  },
  "language_info": {
   "codemirror_mode": {
    "name": "ipython",
    "version": 3
   },
   "file_extension": ".py",
   "mimetype": "text/x-python",
   "name": "python",
   "nbconvert_exporter": "python",
   "pygments_lexer": "ipython3",
   "version": "3.12.1"
  }
 },
 "nbformat": 4,
 "nbformat_minor": 2
}
