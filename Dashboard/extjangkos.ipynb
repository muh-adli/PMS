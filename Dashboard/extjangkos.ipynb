{
 "cells": [
  {
   "cell_type": "code",
   "execution_count": 24,
   "metadata": {},
   "outputs": [
    {
     "name": "stdout",
     "output_type": "stream",
     "text": [
      "    Estate Afdeling Block  Area (Ha)          Status\n",
      "0     INTI        B   D10      26.12  Data Available\n",
      "1     INTI        A   A12       8.04  Data Available\n",
      "2     INTI        A   A11       4.77  Data Available\n",
      "3     INTI        B   D10      26.12  Data Available\n",
      "4     INTI        B   D10      26.12  Data Available\n",
      "..     ...      ...   ...        ...             ...\n",
      "414   INTI        A   A13      11.98               -\n",
      "415   INTI        A   A14      15.96               -\n",
      "416   INTI        A   A15      20.57               -\n",
      "417   INTI        A   B07      28.07               -\n",
      "418   INTI        A   B08      19.06               -\n",
      "\n",
      "[419 rows x 5 columns]\n"
     ]
    },
    {
     "name": "stderr",
     "output_type": "stream",
     "text": [
      "C:\\Users\\Adli\\AppData\\Local\\Temp\\ipykernel_49412\\4236849092.py:33: UserWarning: pandas only supports SQLAlchemy connectable (engine/connection) or database string URI or sqlite3 DBAPI2 connection. Other DBAPI2 objects are not tested. Please consider using SQLAlchemy.\n",
      "  data = pd.read_sql_query(sql, con)\n"
     ]
    }
   ],
   "source": [
    "import psycopg2 as ps\n",
    "import pandas as pd\n",
    "\n",
    "con=ps.connect(dbname=\"webgis\",\n",
    "                user=\"postgres\",\n",
    "                password= \"12345\",\n",
    "                host=\"localhost\",\n",
    "                port=\"5432\")\n",
    "\n",
    "sql=\"\"\"\n",
    "SELECT\n",
    "    block.gid,\n",
    "    block.objectid,\n",
    "    block.afd_name,\n",
    "    block.block_name,\n",
    "    block.ha,\n",
    "    block.estate,\n",
    "    CASE\n",
    "\t\tWHEN \"Jangkos\".gid IS NOT NULL\n",
    "\t\t\tTHEN 'Data Available' ELSE '-'\n",
    "\t\tEND AS jangkos\n",
    "FROM\n",
    "    block\n",
    "LEFT OUTER JOIN\n",
    "    \"Jangkos\"\n",
    "ON\n",
    "    \"Jangkos\".gid = block.gid\n",
    "ORDER BY\n",
    "    jangkos DESC;\n",
    "\"\"\"\n",
    "# data = sqlio.read_sql_query(sql, con)\n",
    "data = pd.read_sql_query(sql, con)\n",
    "data = data.drop(['gid','objectid'], axis=1)\n",
    "data = data.rename(columns={\n",
    "    'afd_name': 'Afdeling',\n",
    "    'block_name': 'Block',\n",
    "    'ha': 'Area (Ha)',\n",
    "    'estate': 'Estate',\n",
    "    'jangkos': 'Status',\n",
    "    })\n",
    "data = data.reindex(columns=[\n",
    "    'Estate',\n",
    "    'Afdeling',\n",
    "    'Block',\n",
    "    'Area (Ha)',\n",
    "    'Status',\n",
    "])\n",
    "print(data)\n",
    "data.to_excel('extjangkos.xlsx', index=False)"
   ]
  },
  {
   "cell_type": "code",
   "execution_count": null,
   "metadata": {},
   "outputs": [],
   "source": []
  }
 ],
 "metadata": {
  "kernelspec": {
   "display_name": "venv",
   "language": "python",
   "name": "python3"
  },
  "language_info": {
   "codemirror_mode": {
    "name": "ipython",
    "version": 3
   },
   "file_extension": ".py",
   "mimetype": "text/x-python",
   "name": "python",
   "nbconvert_exporter": "python",
   "pygments_lexer": "ipython3",
   "version": "3.12.1"
  }
 },
 "nbformat": 4,
 "nbformat_minor": 2
}
